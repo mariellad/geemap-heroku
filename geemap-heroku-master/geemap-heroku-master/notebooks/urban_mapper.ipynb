{
 "cells": [
  {
   "cell_type": "markdown",
   "id": "491f795d",
   "metadata": {},
   "source": [
    "# SDG 11.3.1: Urban Mapper\n",
    "###### By Mariella Daghfal"
   ]
  },
  {
   "cell_type": "code",
   "execution_count": 42,
   "id": "640c347f",
   "metadata": {},
   "outputs": [],
   "source": [
    "import ee\n",
    "import geemap"
   ]
  },
  {
   "cell_type": "code",
   "execution_count": 43,
   "id": "ea66fcbc",
   "metadata": {},
   "outputs": [],
   "source": [
    "Map = geemap.Map()\n",
    "ee.Initialize()"
   ]
  },
  {
   "cell_type": "code",
   "execution_count": 44,
   "id": "c5a5bbe6",
   "metadata": {},
   "outputs": [],
   "source": [
    "geometry = ee.Geometry.MultiPoint(),\n",
    "aoi = ee.Geometry.Polygon(\n",
    "        [[[34.77628154312098, 34.801186923698125],\n",
    "          [34.77628154312098, 32.90358545393876],\n",
    "          [36.79776591812098, 32.90358545393876],\n",
    "          [36.79776591812098, 34.801186923698125]]],{}, False);\n",
    "dataset = ee.ImageCollection('MODIS/006/MCD43A4').filter(ee.Filter.date('2018-04-01', '2018-06-01'));\n",
    "trueColor = dataset.select([\n",
    "  'Nadir_Reflectance_Band1', 'Nadir_Reflectance_Band4',\n",
    "  'Nadir_Reflectance_Band3'\n",
    "])\n",
    "trueColorVis = {\n",
    "  'min': 0.0,\n",
    "  'max': 4000.0,\n",
    "  'gamma': 1.4,\n",
    "}\n",
    "Map.addLayer(trueColor, trueColorVis, 'MODIS')\n",
    "gaia =ee.Image(\"Tsinghua/FROM-GLC/GAIA/v10\")\n",
    "\n",
    "plt = [\n",
    "\n",
    "'0000FF',\n",
    "'0019FF',\n",
    "'0033FF',\n",
    "'004CFF',\n",
    "'0066FF',\n",
    "'0080FF',\n",
    "'00BFFF',\n",
    "'00CBF2',\n",
    "'00D8E5',\n",
    "'00E5D8',\n",
    "'00F2CB',\n",
    "'00FFBF',\n",
    "'00FF80',\n",
    "'00FF66',\n",
    "'00FF4C',\n",
    "'00FF33',\n",
    "'00FF19',\n",
    "'00FF00',\n",
    "'40FF00',\n",
    "'59FF00',\n",
    "'72FF00',\n",
    "'8CFF00',\n",
    "'A5FF00',\n",
    "'BFFF00',\n",
    "'FFFF00',\n",
    "'FFEF00',\n",
    "'FFDF00',\n",
    "'FFCF00',\n",
    "'FFBF00',\n",
    "'FF8000',\n",
    "'FF7000',\n",
    "'FF6000',\n",
    "'FF5000',\n",
    "'FF4000'\n",
    "  ]\n",
    "visParams = {\n",
    "  'min': 1.0,\n",
    "  'max': 34.0,\n",
    "  'palette': plt,\n",
    "  \n",
    "}\n",
    "\n",
    "ur_1988 = gaia.updateMask(gaia.gte(31)).set('system:index',\"1988\")\n",
    "ur_1989 = gaia.updateMask(gaia.gte(30)).set('system:index',\"1989\")\n",
    "ur_1990 = gaia.updateMask(gaia.gte(29)).set('system:index',\"1990\")\n",
    "ur_1991 = gaia.updateMask(gaia.gte(28)).set('system:index',\"1991\")\n",
    "ur_1992 = gaia.updateMask(gaia.gte(27)).set('system:index',\"1992\")\n",
    "ur_1993 = gaia.updateMask(gaia.gte(26)).set('system:index',\"1993\")\n",
    "ur_1994 = gaia.updateMask(gaia.gte(25)).set('system:index',\"1994\")\n",
    "ur_1995 = gaia.updateMask(gaia.gte(24)).set('system:index',\"1995\")\n",
    "ur_1996 = gaia.updateMask(gaia.gte(23)).set('system:index',\"1996\")\n",
    "ur_1997 = gaia.updateMask(gaia.gte(22)).set('system:index',\"1997\")\n",
    "ur_1998 = gaia.updateMask(gaia.gte(21)).set('system:index',\"1998\")\n",
    "ur_1999 = gaia.updateMask(gaia.gte(20)).set('system:index',\"1999\")\n",
    "ur_2000 = gaia.updateMask(gaia.gte(19)).set('system:index',\"2000\")\n",
    "ur_2001 = gaia.updateMask(gaia.gte(18)).set('system:index',\"2001\")\n",
    "ur_2002 = gaia.updateMask(gaia.gte(17)).set('system:index',\"2002\")\n",
    "ur_2003 = gaia.updateMask(gaia.gte(16)).set('system:index',\"2003\")\n",
    "ur_2004 = gaia.updateMask(gaia.gte(15)).set('system:index',\"2004\")\n",
    "ur_2005 = gaia.updateMask(gaia.gte(14)).set('system:index',\"2005\")\n",
    "ur_2006 = gaia.updateMask(gaia.gte(13)).set('system:index',\"2006\")\n",
    "ur_2007 = gaia.updateMask(gaia.gte(12)).set('system:index',\"2007\")\n",
    "ur_2008 = gaia.updateMask(gaia.gte(11)).set('system:index',\"2008\")\n",
    "ur_2009 = gaia.updateMask(gaia.gte(10)).set('system:index',\"2009\")\n",
    "ur_2010 = gaia.updateMask(gaia.gte(9)).set('system:index',\"2010\")\n",
    "ur_2011 = gaia.updateMask(gaia.gte(8)).set('system:index',\"2011\")\n",
    "ur_2012 = gaia.updateMask(gaia.gte(7)).set('system:index',\"2012\")\n",
    "ur_2013 = gaia.updateMask(gaia.gte(6)).set('system:index',\"2013\")\n",
    "ur_2014 = gaia.updateMask(gaia.gte(5)).set('system:index',\"2014\")\n",
    "ur_2015 = gaia.updateMask(gaia.gte(4)).set('system:index',\"2015\")\n",
    "ur_2016 = gaia.updateMask(gaia.gte(3)).set('system:index',\"2016\")\n",
    "ur_2017 = gaia.updateMask(gaia.gte(2)).set('system:index',\"2017\")\n",
    "ur_2018 = gaia.updateMask(gaia.gte(1)).set('system:index',\"2018\")\n",
    "\n",
    "\n",
    "Map.addLayer(ur_2000, visParams, 'urban 2000')\n",
    "Map.addLayer(ur_2005, visParams, 'urban 2005')\n",
    "Map.addLayer(ur_2010, visParams, 'urban 2010')\n",
    "Map.addLayer(ur_2015, visParams, 'urban 2015')\n",
    "\n",
    "col = ee.ImageCollection([\n",
    "\n",
    "ur_1988\n",
    ",ur_1989\n",
    ",ur_1990\n",
    ",ur_1991\n",
    ",ur_1992\n",
    ",ur_1993\n",
    ",ur_1994\n",
    ",ur_1995\n",
    ",ur_1996\n",
    ",ur_1997\n",
    ",ur_1998\n",
    ",ur_1999\n",
    ",ur_2000\n",
    ",ur_2001\n",
    ",ur_2002\n",
    ",ur_2003\n",
    ",ur_2004\n",
    ",ur_2005\n",
    ",ur_2006\n",
    ",ur_2007\n",
    ",ur_2008\n",
    ",ur_2009\n",
    ",ur_2010\n",
    ",ur_2011\n",
    ",ur_2012\n",
    ",ur_2013\n",
    ",ur_2014\n",
    ",ur_2015\n",
    ",ur_2016\n",
    ",ur_2017\n",
    ",ur_2018\n",
    "])\n"
   ]
  },
  {
   "cell_type": "code",
   "execution_count": 45,
   "id": "d681f00b",
   "metadata": {},
   "outputs": [
    {
     "data": {
      "application/vnd.jupyter.widget-view+json": {
       "model_id": "5b8491cae8104aada95aa5912220543d",
       "version_major": 2,
       "version_minor": 0
      },
      "text/plain": [
       "Map(center=[20, 0], controls=(WidgetControl(options=['position', 'transparent_bg'], widget=HBox(children=(Togg…"
      ]
     },
     "metadata": {},
     "output_type": "display_data"
    },
    {
     "name": "stdout",
     "output_type": "stream",
     "text": [
      "Element.toDictionary: Parameter 'element' is required.\n"
     ]
    }
   ],
   "source": [
    "Map"
   ]
  },
  {
   "cell_type": "code",
   "execution_count": null,
   "id": "c8ccc528",
   "metadata": {},
   "outputs": [],
   "source": []
  }
 ],
 "metadata": {
  "kernelspec": {
   "display_name": "Python 3 (ipykernel)",
   "language": "python",
   "name": "python3"
  },
  "language_info": {
   "codemirror_mode": {
    "name": "ipython",
    "version": 3
   },
   "file_extension": ".py",
   "mimetype": "text/x-python",
   "name": "python",
   "nbconvert_exporter": "python",
   "pygments_lexer": "ipython3",
   "version": "3.9.12"
  }
 },
 "nbformat": 4,
 "nbformat_minor": 5
}
